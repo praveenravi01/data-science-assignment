{
  "nbformat": 4,
  "nbformat_minor": 0,
  "metadata": {
    "colab": {
      "provenance": [],
      "authorship_tag": "ABX9TyNRhMRyMGKuyCcR02McAYc0",
      "include_colab_link": true
    },
    "kernelspec": {
      "name": "python3",
      "display_name": "Python 3"
    },
    "language_info": {
      "name": "python"
    }
  },
  "cells": [
    {
      "cell_type": "markdown",
      "metadata": {
        "id": "view-in-github",
        "colab_type": "text"
      },
      "source": [
        "<a href=\"https://colab.research.google.com/github/praveenravi01/data-science-assignment/blob/main/Lookalike.ipynb\" target=\"_parent\"><img src=\"https://colab.research.google.com/assets/colab-badge.svg\" alt=\"Open In Colab\"/></a>"
      ]
    },
    {
      "cell_type": "code",
      "execution_count": 1,
      "metadata": {
        "colab": {
          "base_uri": "https://localhost:8080/"
        },
        "id": "PAqjpNenc7ar",
        "outputId": "86fd217b-ef6d-4460-f823-6305ad7672b6"
      },
      "outputs": [
        {
          "output_type": "stream",
          "name": "stdout",
          "text": [
            "Merged Data Columns: Index(['TransactionID', 'CustomerID', 'ProductID', 'TransactionDate',\n",
            "       'Quantity', 'TotalValue', 'Price_x', 'CustomerName', 'Region',\n",
            "       'SignupDate', 'ProductName', 'Category', 'Price_y'],\n",
            "      dtype='object')\n",
            "Customer Profiles Columns: Index(['CustomerID', 'Quantity', 'TotalValue', 'Price', 'Category'], dtype='object')\n",
            "  CustomerID  Quantity  TotalValue       Price     Category\n",
            "0      C0001        12     3354.52  278.334000  Electronics\n",
            "1      C0002        10     1862.74  208.920000     Clothing\n",
            "2      C0003        14     2725.38  195.707500   Home Decor\n",
            "3      C0004        23     5354.88  240.636250        Books\n",
            "4      C0005         7     2034.24  291.603333  Electronics\n",
            "Lookalike recommendations for first 20 customers saved to 'Lookalike.csv'\n"
          ]
        }
      ],
      "source": [
        "import pandas as pd\n",
        "from sklearn.metrics.pairwise import cosine_similarity\n",
        "from sklearn.preprocessing import StandardScaler\n",
        "\n",
        "# Load datasets\n",
        "customers = pd.read_csv('/content/Customers.csv')\n",
        "products = pd.read_csv('/content/Products.csv')\n",
        "transactions = pd.read_csv('/content/Transactions.csv')\n",
        "\n",
        "# Ensure consistent column names\n",
        "customers.rename(columns={'Customer ID': 'CustomerID'}, inplace=True)\n",
        "transactions.rename(columns={'Product ID': 'ProductID'}, inplace=True)\n",
        "\n",
        "# Merge datasets for analysis\n",
        "merged_data = transactions.merge(customers, on='CustomerID').merge(products, on='ProductID')\n",
        "\n",
        "# Debug: Check merged data columns\n",
        "print(\"Merged Data Columns:\", merged_data.columns)\n",
        "\n",
        "# Aggregating data to create customer profiles\n",
        "customer_profiles = merged_data.groupby('CustomerID').agg({\n",
        "    'Quantity': 'sum',\n",
        "    'TotalValue': 'sum',\n",
        "    'Price_y': 'mean',  # Using Price from the Products.csv\n",
        "    'Category': lambda x: x.mode()[0]  # Most frequent category\n",
        "}).reset_index()\n",
        "\n",
        "# Rename 'Price_y' to 'Price' for clarity\n",
        "customer_profiles.rename(columns={'Price_y': 'Price'}, inplace=True)\n",
        "\n",
        "# Debug: Check aggregated customer_profiles\n",
        "print(\"Customer Profiles Columns:\", customer_profiles.columns)\n",
        "print(customer_profiles.head())\n",
        "\n",
        "# One-hot encode the categorical 'Category' column\n",
        "customer_profiles = pd.get_dummies(customer_profiles, columns=['Category'], drop_first=True)\n",
        "\n",
        "# Normalize numerical features\n",
        "scaler = StandardScaler()\n",
        "scaled_features = scaler.fit_transform(customer_profiles.drop(['CustomerID'], axis=1))\n",
        "\n",
        "# Calculate similarity using cosine similarity\n",
        "similarity_matrix = cosine_similarity(scaled_features)\n",
        "\n",
        "# Creating the lookalike recommendations\n",
        "lookalike_results = {}\n",
        "customer_ids = customer_profiles['CustomerID'].values\n",
        "\n",
        "for idx, customer_id in enumerate(customer_ids[:20]):  # For the first 20 customers\n",
        "    similarity_scores = list(enumerate(similarity_matrix[idx]))\n",
        "    similar_customers = sorted(similarity_scores, key=lambda x: x[1], reverse=True)[1:4]  # Top 3 excluding itself\n",
        "    lookalike_results[customer_id] = [\n",
        "        (customer_ids[sim_idx], round(score, 4)) for sim_idx, score in similar_customers\n",
        "    ]\n",
        "\n",
        "# Convert to DataFrame for output\n",
        "lookalike_df = pd.DataFrame({\n",
        "    'CustomerID': lookalike_results.keys(),\n",
        "    'Lookalikes': [str(val) for val in lookalike_results.values()]\n",
        "})\n",
        "\n",
        "# Save the results to a CSV file\n",
        "lookalike_df.to_csv('Lookalike.csv', index=False)\n",
        "\n",
        "print(\"Lookalike recommendations for first 20 customers saved to 'Lookalike.csv'\")\n"
      ]
    }
  ]
}